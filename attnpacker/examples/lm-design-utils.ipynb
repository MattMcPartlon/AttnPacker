{
 "cells": [
  {
   "cell_type": "code",
   "execution_count": null,
   "id": "c8875478-523d-4c41-b615-bdd7231ca916",
   "metadata": {},
   "outputs": [],
   "source": [
    "import torch\n",
    "\n",
    "def sample_from_categorical(logits=None, temperature=1.0):\n",
    "    if temperature:\n",
    "        dist = torch.distributions.Categorical(logits=logits.div(temperature))\n",
    "        tokens = dist.sample()\n",
    "        scores = dist.log_prob(tokens)\n",
    "    else:\n",
    "        scores, tokens = logits.log_softmax(dim=-1).max(dim=-1)\n",
    "    return tokens, scores\n",
    "\n",
    "def new_arange(x, *size):\n",
    "    \"\"\"\n",
    "    Return a Tensor of `size` filled with a range function on the device of x.\n",
    "    If size is empty, using the size of the variable x.\n",
    "    \"\"\"\n",
    "    if len(size) == 0:\n",
    "        size = x.size()\n",
    "    return torch.arange(size[-1], device=x.device).expand(*size).contiguous()"
   ]
  }
 ],
 "metadata": {
  "kernelspec": {
   "display_name": "moleculearn",
   "language": "python",
   "name": "moleculearn"
  },
  "language_info": {
   "codemirror_mode": {
    "name": "ipython",
    "version": 3
   },
   "file_extension": ".py",
   "mimetype": "text/x-python",
   "name": "python",
   "nbconvert_exporter": "python",
   "pygments_lexer": "ipython3",
   "version": "3.8.17"
  }
 },
 "nbformat": 4,
 "nbformat_minor": 5
}

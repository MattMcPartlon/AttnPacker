{
 "cells": [
  {
   "cell_type": "code",
   "execution_count": 1,
   "id": "8dea96a1",
   "metadata": {},
   "outputs": [
    {
     "name": "stdout",
     "output_type": "stream",
     "text": [
      "Added /Users/matthewmcpartlon/VSCode/AttnPacker to python path\n"
     ]
    }
   ],
   "source": [
    "import os\n",
    "import sys\n",
    "code_root = os.path.dirname(os.path.dirname(os.getcwd()))\n",
    "if code_root not in sys.path:\n",
    "    print(f\"Added {code_root} to python path\")\n",
    "    sys.path.append(code_root)\n",
    "# Faster Inference on CPU\n",
    "os.environ[\"CUDA_DEVICE_ORDER\"] = \"PCI_BUS_ID\"\n",
    "os.environ['OPENBLAS_NUM_THREADS'] = '4'\n",
    "os.environ['MKL_NUM_THREADS'] = '4'\n",
    "os.environ['OMP_NUM_THREADS'] = '4'"
   ]
  },
  {
   "cell_type": "code",
   "execution_count": 3,
   "id": "7080aefb",
   "metadata": {},
   "outputs": [],
   "source": [
    "import torch\n",
    "from protein_learning.networks.common.helpers.neighbor_utils import get_neighbor_info\n",
    "import protein_learning.protein_utils.sidechains.project_sidechains as scp"
   ]
  },
  {
   "cell_type": "code",
   "execution_count": null,
   "id": "dfe9caf9",
   "metadata": {},
   "outputs": [],
   "source": [
    "scp"
   ]
  }
 ],
 "metadata": {
  "kernelspec": {
   "display_name": "Python 3 (ipykernel)",
   "language": "python",
   "name": "python3"
  },
  "language_info": {
   "codemirror_mode": {
    "name": "ipython",
    "version": 3
   },
   "file_extension": ".py",
   "mimetype": "text/x-python",
   "name": "python",
   "nbconvert_exporter": "python",
   "pygments_lexer": "ipython3",
   "version": "3.8.11"
  }
 },
 "nbformat": 4,
 "nbformat_minor": 5
}

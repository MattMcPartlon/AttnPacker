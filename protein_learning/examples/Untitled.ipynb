{
 "cells": [
  {
   "cell_type": "code",
   "execution_count": 1,
   "id": "8a50b35d",
   "metadata": {},
   "outputs": [
    {
     "name": "stdout",
     "output_type": "stream",
     "text": [
      "adding /Users/matthewmcpartlon/VSCode/AttnPacker to sys.path\n"
     ]
    }
   ],
   "source": [
    "import os\n",
    "import sys\n",
    "project_root = \"/\".join(os.getcwd().split(\"/\")[:-2])\n",
    "if project_root not in sys.path:\n",
    "    print(f\"adding {project_root} to sys.path\")\n",
    "    sys.path.append(project_root)\n",
    "    \n",
    "import torch\n",
    "import numpy as np\n",
    "torch.set_printoptions(\n",
    "    precision=3,\n",
    "    threshold=None,\n",
    "    edgeitems=None,\n",
    "    linewidth=None,\n",
    "    profile=None,\n",
    "    sci_mode=False,\n",
    ")\n"
   ]
  },
  {
   "cell_type": "markdown",
   "id": "bfc10abb",
   "metadata": {},
   "source": [
    "## Compare Predicted SIdechains with Native Structure"
   ]
  },
  {
   "cell_type": "code",
   "execution_count": 4,
   "id": "0a14e058",
   "metadata": {},
   "outputs": [
    {
     "name": "stdout",
     "output_type": "stream",
     "text": [
      "{'ca_rmsd': tensor(    0.000),\n",
      " 'clash_info': {'100': {'energy': tensor(2.010),\n",
      "                        'num_atom_pairs': 308580,\n",
      "                        'num_clashes': 16},\n",
      "                '80': {'energy': tensor(0.),\n",
      "                       'num_atom_pairs': 308580,\n",
      "                       'num_clashes': 0},\n",
      "                '90': {'energy': tensor(0.),\n",
      "                       'num_atom_pairs': 308580,\n",
      "                       'num_clashes': 0}},\n",
      " 'dihedral_counts': tensor([98, 57, 12,  7]),\n",
      " 'mae_sr': tensor(0.520),\n",
      " 'mean_mae': tensor([28.504, 22.006, 73.557, 45.663]),\n",
      " 'num_sc': 98,\n",
      " 'rmsd': tensor(0.743),\n",
      " 'seq_len': 133}\n"
     ]
    }
   ],
   "source": [
    "from protein_learning.assessment.sidechain import assess_sidechains, summarize\n",
    "import pprint\n",
    "predicted_pdb = \"./pdbs/post-processed-T1080-predicted.pdb\"\n",
    "target_pdb = \"./pdbs/T1080.pdb\"\n",
    "res_level_stats = assess_sidechains(target_pdb, predicted_pdb, steric_tol_fracs = [1,0.9,0.8])\n",
    "target_level_stats = summarize(assessment_stats)\n",
    "print(pprint.pformat(target_level_stats))\n"
   ]
  },
  {
   "cell_type": "code",
   "execution_count": null,
   "id": "cfe0f505",
   "metadata": {},
   "outputs": [],
   "source": []
  }
 ],
 "metadata": {
  "kernelspec": {
   "display_name": "Python 3 (ipykernel)",
   "language": "python",
   "name": "python3"
  },
  "language_info": {
   "codemirror_mode": {
    "name": "ipython",
    "version": 3
   },
   "file_extension": ".py",
   "mimetype": "text/x-python",
   "name": "python",
   "nbconvert_exporter": "python",
   "pygments_lexer": "ipython3",
   "version": "3.8.15"
  }
 },
 "nbformat": 4,
 "nbformat_minor": 5
}

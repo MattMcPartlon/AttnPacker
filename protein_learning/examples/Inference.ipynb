{
 "cells": [
  {
   "cell_type": "markdown",
   "id": "3cc597ac",
   "metadata": {},
   "source": [
    "## Add AttnPacker to your `PYTHONPATH` if it is not already there"
   ]
  },
  {
   "cell_type": "code",
   "execution_count": 1,
   "id": "fb545478",
   "metadata": {},
   "outputs": [
    {
     "name": "stdout",
     "output_type": "stream",
     "text": [
      "Added /Users/matthewmcpartlon/VSCode/AttnPacker to python path\n"
     ]
    }
   ],
   "source": [
    "import os\n",
    "import sys\n",
    "code_root = os.path.dirname(os.path.dirname(os.getcwd()))\n",
    "if code_root not in sys.path:\n",
    "    print(f\"Added {code_root} to python path\")\n",
    "    sys.path.append(code_root)\n",
    "# Faster Inference on CPU\n",
    "os.environ[\"CUDA_DEVICE_ORDER\"] = \"PCI_BUS_ID\"\n",
    "os.environ['OPENBLAS_NUM_THREADS'] = '4'\n",
    "os.environ['MKL_NUM_THREADS'] = '4'\n",
    "os.environ['OMP_NUM_THREADS'] = '4'\n"
   ]
  },
  {
   "cell_type": "code",
   "execution_count": 2,
   "id": "3a8c3345",
   "metadata": {},
   "outputs": [
    {
     "ename": "ModuleNotFoundError",
     "evalue": "No module named 'protein_learning.models.masked_design'",
     "output_type": "error",
     "traceback": [
      "\u001b[0;31m---------------------------------------------------------------------------\u001b[0m",
      "\u001b[0;31mModuleNotFoundError\u001b[0m                       Traceback (most recent call last)",
      "Cell \u001b[0;32mIn[2], line 2\u001b[0m\n\u001b[1;32m      1\u001b[0m \u001b[38;5;28;01mimport\u001b[39;00m \u001b[38;5;21;01mtorch\u001b[39;00m\n\u001b[0;32m----> 2\u001b[0m \u001b[38;5;28;01mfrom\u001b[39;00m \u001b[38;5;21;01mprotein_learning\u001b[39;00m\u001b[38;5;21;01m.\u001b[39;00m\u001b[38;5;21;01mmodels\u001b[39;00m\u001b[38;5;21;01m.\u001b[39;00m\u001b[38;5;21;01minference_utils\u001b[39;00m \u001b[38;5;28;01mimport\u001b[39;00m (\n\u001b[1;32m      3\u001b[0m     Inference,\n\u001b[1;32m      4\u001b[0m     make_predicted_protein,\n\u001b[1;32m      5\u001b[0m )\n\u001b[1;32m      6\u001b[0m \u001b[38;5;28;01mimport\u001b[39;00m \u001b[38;5;21;01mprotein_learning\u001b[39;00m\u001b[38;5;21;01m.\u001b[39;00m\u001b[38;5;21;01mcommon\u001b[39;00m\u001b[38;5;21;01m.\u001b[39;00m\u001b[38;5;21;01mprotein_constants\u001b[39;00m \u001b[38;5;28;01mas\u001b[39;00m \u001b[38;5;21;01mpc\u001b[39;00m\n\u001b[1;32m      7\u001b[0m \u001b[38;5;28;01mimport\u001b[39;00m \u001b[38;5;21;01mtime\u001b[39;00m\n",
      "File \u001b[0;32m~/VSCode/AttnPacker/protein_learning/models/inference_utils.py:11\u001b[0m\n\u001b[1;32m      6\u001b[0m \u001b[38;5;28;01mimport\u001b[39;00m \u001b[38;5;21;01mprotein_learning\u001b[39;00m\u001b[38;5;21;01m.\u001b[39;00m\u001b[38;5;21;01mmodels\u001b[39;00m\u001b[38;5;21;01m.\u001b[39;00m\u001b[38;5;21;01mmodel_abc\u001b[39;00m\u001b[38;5;21;01m.\u001b[39;00m\u001b[38;5;21;01mtrain\u001b[39;00m \u001b[38;5;28;01mas\u001b[39;00m \u001b[38;5;21;01msc\u001b[39;00m\n\u001b[1;32m      7\u001b[0m \u001b[38;5;28;01mfrom\u001b[39;00m \u001b[38;5;21;01mprotein_learning\u001b[39;00m\u001b[38;5;21;01m.\u001b[39;00m\u001b[38;5;21;01mmodels\u001b[39;00m\u001b[38;5;21;01m.\u001b[39;00m\u001b[38;5;21;01mutils\u001b[39;00m\u001b[38;5;21;01m.\u001b[39;00m\u001b[38;5;21;01mmodel_io\u001b[39;00m \u001b[38;5;28;01mimport\u001b[39;00m (\n\u001b[1;32m      8\u001b[0m     get_args_n_groups,\n\u001b[1;32m      9\u001b[0m     load_args_for_eval,\n\u001b[1;32m     10\u001b[0m )\n\u001b[0;32m---> 11\u001b[0m \u001b[38;5;28;01mfrom\u001b[39;00m \u001b[38;5;21;01mprotein_learning\u001b[39;00m\u001b[38;5;21;01m.\u001b[39;00m\u001b[38;5;21;01mmodels\u001b[39;00m\u001b[38;5;21;01m.\u001b[39;00m\u001b[38;5;21;01mfbb_design\u001b[39;00m\u001b[38;5;21;01m.\u001b[39;00m\u001b[38;5;21;01mtrain\u001b[39;00m \u001b[38;5;28;01mimport\u001b[39;00m Train \u001b[38;5;28;01mas\u001b[39;00m SCPTrain, _augment\n\u001b[1;32m     12\u001b[0m \u001b[38;5;28;01mimport\u001b[39;00m \u001b[38;5;21;01mprotein_learning\u001b[39;00m\u001b[38;5;21;01m.\u001b[39;00m\u001b[38;5;21;01mcommon\u001b[39;00m\u001b[38;5;21;01m.\u001b[39;00m\u001b[38;5;21;01mprotein_constants\u001b[39;00m \u001b[38;5;28;01mas\u001b[39;00m \u001b[38;5;21;01mpc\u001b[39;00m\n\u001b[1;32m     13\u001b[0m \u001b[38;5;28;01mfrom\u001b[39;00m \u001b[38;5;21;01mprotein_learning\u001b[39;00m\u001b[38;5;21;01m.\u001b[39;00m\u001b[38;5;21;01mfeatures\u001b[39;00m\u001b[38;5;21;01m.\u001b[39;00m\u001b[38;5;21;01minput_embedding\u001b[39;00m \u001b[38;5;28;01mimport\u001b[39;00m InputEmbedding\n",
      "File \u001b[0;32m~/VSCode/AttnPacker/protein_learning/models/fbb_design/train.py:16\u001b[0m\n\u001b[1;32m     14\u001b[0m \u001b[38;5;28;01mimport\u001b[39;00m \u001b[38;5;21;01mtorch\u001b[39;00m\n\u001b[1;32m     15\u001b[0m \u001b[38;5;28;01mfrom\u001b[39;00m \u001b[38;5;21;01mprotein_learning\u001b[39;00m\u001b[38;5;21;01m.\u001b[39;00m\u001b[38;5;21;01mfeatures\u001b[39;00m\u001b[38;5;21;01m.\u001b[39;00m\u001b[38;5;21;01minput_embedding\u001b[39;00m \u001b[38;5;28;01mimport\u001b[39;00m InputEmbedding\n\u001b[0;32m---> 16\u001b[0m \u001b[38;5;28;01mfrom\u001b[39;00m \u001b[38;5;21;01mprotein_learning\u001b[39;00m\u001b[38;5;21;01m.\u001b[39;00m\u001b[38;5;21;01mmodels\u001b[39;00m\u001b[38;5;21;01m.\u001b[39;00m\u001b[38;5;21;01mfbb_design\u001b[39;00m\u001b[38;5;21;01m.\u001b[39;00m\u001b[38;5;21;01mtrain_utils\u001b[39;00m \u001b[38;5;28;01mimport\u001b[39;00m TrainDesign\n\u001b[1;32m     17\u001b[0m \u001b[38;5;28;01mfrom\u001b[39;00m \u001b[38;5;21;01mprotein_learning\u001b[39;00m\u001b[38;5;21;01m.\u001b[39;00m\u001b[38;5;21;01mnetworks\u001b[39;00m\u001b[38;5;21;01m.\u001b[39;00m\u001b[38;5;21;01mgeometric_gt\u001b[39;00m\u001b[38;5;21;01m.\u001b[39;00m\u001b[38;5;21;01mgeom_gt_config\u001b[39;00m \u001b[38;5;28;01mimport\u001b[39;00m add_gt_options, get_configs \u001b[38;5;28;01mas\u001b[39;00m get_gt_configs\n\u001b[1;32m     18\u001b[0m \u001b[38;5;28;01mfrom\u001b[39;00m \u001b[38;5;21;01mprotein_learning\u001b[39;00m\u001b[38;5;21;01m.\u001b[39;00m\u001b[38;5;21;01mnetworks\u001b[39;00m\u001b[38;5;21;01m.\u001b[39;00m\u001b[38;5;21;01mloss\u001b[39;00m\u001b[38;5;21;01m.\u001b[39;00m\u001b[38;5;21;01mloss_fn\u001b[39;00m \u001b[38;5;28;01mimport\u001b[39;00m LossConfig, DefaultLossFunc\n",
      "File \u001b[0;32m~/VSCode/AttnPacker/protein_learning/models/fbb_design/train_utils.py:17\u001b[0m\n\u001b[1;32m     13\u001b[0m \u001b[38;5;28;01mfrom\u001b[39;00m \u001b[38;5;21;01mprotein_learning\u001b[39;00m\u001b[38;5;21;01m.\u001b[39;00m\u001b[38;5;21;01mfeatures\u001b[39;00m\u001b[38;5;21;01m.\u001b[39;00m\u001b[38;5;21;01minput_embedding\u001b[39;00m \u001b[38;5;28;01mimport\u001b[39;00m InputEmbedding\n\u001b[1;32m     14\u001b[0m \u001b[38;5;28;01mfrom\u001b[39;00m \u001b[38;5;21;01mprotein_learning\u001b[39;00m\u001b[38;5;21;01m.\u001b[39;00m\u001b[38;5;21;01mfeatures\u001b[39;00m\u001b[38;5;21;01m.\u001b[39;00m\u001b[38;5;21;01mmasking\u001b[39;00m\u001b[38;5;21;01m.\u001b[39;00m\u001b[38;5;21;01mpartition\u001b[39;00m \u001b[38;5;28;01mimport\u001b[39;00m (\n\u001b[1;32m     15\u001b[0m     ChainPartitionGenerator,\n\u001b[1;32m     16\u001b[0m )\n\u001b[0;32m---> 17\u001b[0m \u001b[38;5;28;01mfrom\u001b[39;00m \u001b[38;5;21;01mprotein_learning\u001b[39;00m\u001b[38;5;21;01m.\u001b[39;00m\u001b[38;5;21;01mmodels\u001b[39;00m\u001b[38;5;21;01m.\u001b[39;00m\u001b[38;5;21;01mmasked_design\u001b[39;00m\u001b[38;5;21;01m.\u001b[39;00m\u001b[38;5;21;01mmasked_design_utils\u001b[39;00m \u001b[38;5;28;01mimport\u001b[39;00m FeatureFlagGen\n\u001b[1;32m     18\u001b[0m \u001b[38;5;28;01mfrom\u001b[39;00m \u001b[38;5;21;01mprotein_learning\u001b[39;00m\u001b[38;5;21;01m.\u001b[39;00m\u001b[38;5;21;01mmodels\u001b[39;00m\u001b[38;5;21;01m.\u001b[39;00m\u001b[38;5;21;01mmodel_abc\u001b[39;00m\u001b[38;5;21;01m.\u001b[39;00m\u001b[38;5;21;01mtrain\u001b[39;00m \u001b[38;5;28;01mimport\u001b[39;00m TrainABC\n\u001b[1;32m     19\u001b[0m \u001b[38;5;28;01mfrom\u001b[39;00m \u001b[38;5;21;01mprotein_learning\u001b[39;00m\u001b[38;5;21;01m.\u001b[39;00m\u001b[38;5;21;01mmodels\u001b[39;00m\u001b[38;5;21;01m.\u001b[39;00m\u001b[38;5;21;01mutils\u001b[39;00m\u001b[38;5;21;01m.\u001b[39;00m\u001b[38;5;21;01mdataset_augment_fns\u001b[39;00m \u001b[38;5;28;01mimport\u001b[39;00m impute_cb, partition_chain\n",
      "\u001b[0;31mModuleNotFoundError\u001b[0m: No module named 'protein_learning.models.masked_design'"
     ]
    }
   ],
   "source": [
    "import torch\n",
    "from protein_learning.models.inference_utils import (\n",
    "    Inference,\n",
    "    make_predicted_protein,\n",
    ")\n",
    "import protein_learning.common.protein_constants as pc\n",
    "import time"
   ]
  },
  {
   "cell_type": "markdown",
   "id": "94e805e0",
   "metadata": {},
   "source": [
    "# Inference Procedure"
   ]
  },
  {
   "cell_type": "markdown",
   "id": "33cf4375",
   "metadata": {},
   "source": [
    "### Load the model\n",
    "\n",
    "The `Inference` class is a wrapper around the AttnPacker Model and is used for performing inference\n",
    "\n",
    "You should have already downloaded the pretrained model weights and configs ([linked here](https://zenodo.org/record/7559358#.Y83tYuzMI0Q)). To load AttnPacker or AttnPacker+Design, \n",
    "specify the directory you downloaded these files to in the parameter `RESOURCE_ROOT`."
   ]
  },
  {
   "cell_type": "code",
   "execution_count": null,
   "id": "6da3e0c1",
   "metadata": {},
   "outputs": [],
   "source": [
    "RESOURCE_ROOT = \"/Users/matthewmcpartlon/Downloads/fbb_design_ft_inference/AttnPackerPTM_V2/\"\n",
    "DEVICE = \"cuda:0\" if torch.cuda.is_available() else \"cpu\"\n",
    "# Wrapper class for inference\n",
    "runner = Inference(RESOURCE_ROOT, use_design_variant = False)\n",
    "runner = runner.to(DEVICE)"
   ]
  },
  {
   "cell_type": "markdown",
   "id": "00f22014",
   "metadata": {},
   "source": [
    "### Run Inference\n",
    "\n",
    "When `post_process=True` the output of `runner.infer` is a dictionary with keys:\n",
    "\n",
    "- pred_coords (Tensor[L,37,3])\n",
    "    - Predicted coordinates (order is given by pc.ALL_ATOM_POSNS)\n",
    "- pred_seq_logits (Tensor[L,21]) \n",
    "    - Residue-Type log likelihoods. Output only when using design variant (Order Given by pc.AA_TO_INDEX)\n",
    "- pred_plddt (Tensor[L])\n",
    "    - Predicted per-residue side-chain lDDT scores\n",
    "- res_output (Tensor[L,L,d_pair])\n",
    "    - Raw Residue Feature Output \n",
    "- pair_output (Tensor[L,d_res])\n",
    "    - Raw Pair Feature output\n",
    "- design_mask (Tensor[L]) \n",
    "    - Masked residue positions in input sequence (used only with design variant)\n",
    "- seq (str)\n",
    "    - String Representaion of Protein Sequence (possibly designed)\n",
    "- model_out (common.data.data_types.model_output.ModelOutput)\n",
    "    - Raw output of model.forward()\n",
    "- model_in (common.data.data_types.model_output.ModelInput)\n",
    "    - Raw Input to model.forward()\n",
    "    \n",
    "Note: The First Forward pass may be slow as the model has not yet been initialized"
   ]
  },
  {
   "cell_type": "code",
   "execution_count": null,
   "id": "32f8f94a",
   "metadata": {},
   "outputs": [],
   "source": [
    "pdb_path = \"./pdbs/T0967.pdb\"\n",
    "start = time.time()\n",
    "prediction = runner.infer(\n",
    "    pdb_path=pdb_path, \n",
    "    #Boolean Tensor indicating which residues to design\n",
    "    design_mask=None, \n",
    "    #Whether to post-process output\n",
    "    post_process=True\n",
    ")\n",
    "print(f\"Ran Inference on {runner.device} in time {round(time.time()-start,2)} seconds\")\n"
   ]
  },
  {
   "cell_type": "markdown",
   "id": "f0f144e5",
   "metadata": {},
   "source": [
    "### Save and Analyze Predictions\n",
    "\n",
    "Convert prediction into a `Protein` object (`common.data.data_types.protein.Protein`) before saving to PDB "
   ]
  },
  {
   "cell_type": "code",
   "execution_count": null,
   "id": "84527815",
   "metadata": {},
   "outputs": [],
   "source": [
    "predicted_protein = make_predicted_protein(model_out = prediction['model_out'], seq = prediction['seq'])\n",
    "# Save predicted PDB to this location\n",
    "pdb_out_path = f\"./attnpacker_inference/examples/{predicted_protein.name}_packed.pdb\"\n",
    "print(f\"saving pdb to {pdb_out_path}\")\n",
    "predicted_protein.to_pdb(pdb_out_path)"
   ]
  },
  {
   "cell_type": "markdown",
   "id": "fcc63de0",
   "metadata": {},
   "source": [
    "## Run Post-Processing Procedure on Output\n",
    "\n",
    "As mentioned in the paper, the direct coordinate predictions may not have ideal geometry and\n",
    "could contain some clashes (though, often the number of clashes is small!)\n",
    "\n",
    "We can run the post-processing procedure described in the paper to fix this.\n"
   ]
  },
  {
   "cell_type": "code",
   "execution_count": null,
   "id": "2f77e3a2",
   "metadata": {},
   "outputs": [],
   "source": [
    "from protein_learning.protein_utils.sidechains.project_sidechains import project_onto_rotamers\n",
    "# save optimized packing to the path below\n",
    "pp_pdb_out_path = f\"./attnpacker_inference/examples/{predicted_protein.name}_packed_pp.pdb\"\n",
    "\n",
    "#Please read the doc string for more details\n",
    "projected_coords, _ = project_onto_rotamers(\n",
    "    atom_coords = predicted_protein.atom_coords.unsqueeze(0),\n",
    "    sequence = predicted_protein.seq_encoding.unsqueeze(0),\n",
    "    atom_mask = predicted_protein.atom_masks.unsqueeze(0),\n",
    "    steric_clash_weight=1.,\n",
    "    optim_repeats = 2,\n",
    "    steric_loss_kwargs = dict(\n",
    "        hbond_allowance = 0.6,\n",
    "        global_allowance = 0.05,\n",
    "        global_tol_frac = 0.95,\n",
    "    ),\n",
    "    device = DEVICE,\n",
    "    # set this to smaller value to trade off accuracy and speed.\n",
    "    # use >= 500 for highest accuracy and ~50 for speed.\n",
    "    max_optim_iters = 100,\n",
    ")\n",
    "# write new pdb using optimized coordinates\n",
    "predicted_protein.to_pdb(pp_pdb_out_path, coords=projected_coords.squeeze())\n"
   ]
  },
  {
   "cell_type": "markdown",
   "id": "5158ae97",
   "metadata": {},
   "source": [
    "## Analyze predicted plDDT"
   ]
  },
  {
   "cell_type": "code",
   "execution_count": null,
   "id": "447fc648",
   "metadata": {},
   "outputs": [],
   "source": [
    "import matplotlib.pyplot as plt\n",
    "pred_plddt = prediction[\"pred_plddt\"]\n",
    "plt.plot(torch.arange(pred_plddt.numel()),pred_plddt.squeeze())"
   ]
  },
  {
   "cell_type": "markdown",
   "id": "fcaa28e9",
   "metadata": {},
   "source": [
    "## Visualize Optimized Coordinates"
   ]
  },
  {
   "cell_type": "code",
   "execution_count": null,
   "id": "36ae9f5c",
   "metadata": {},
   "outputs": [],
   "source": [
    "view = None\n",
    "try:\n",
    "    import nglview as nv\n",
    "    view = nv.show_file(pp_pdb_out_path)\n",
    "    view.add_cartoon(\"protein\",color_scheme='residue_index')\n",
    "    view.add_ball_and_stick(\"protein\")\n",
    "except:\n",
    "    pass\n",
    "view"
   ]
  },
  {
   "cell_type": "markdown",
   "id": "be3e41fd",
   "metadata": {},
   "source": [
    "# Run Inference with Design Variant\n",
    "\n",
    "To design sequence and side-chains, just initialize the Inference class with `use_design_variant = True`, and use the `design_mask` parameter to indicate which parts of the backbone should be designed."
   ]
  },
  {
   "cell_type": "code",
   "execution_count": null,
   "id": "11bd199c",
   "metadata": {},
   "outputs": [],
   "source": [
    "RESOURCE_ROOT = \"/Users/matthewmcpartlon/Downloads/fbb_design_ft_inference/AttnPackerPTM_V2/\"\n",
    "DEVICE = \"cuda:0\" if torch.cuda.is_available() else \"cpu\"\n",
    "# Wrapper class for inference\n",
    "runner = Inference(RESOURCE_ROOT, use_design_variant = True)\n",
    "runner = runner.to(DEVICE)"
   ]
  },
  {
   "cell_type": "code",
   "execution_count": null,
   "id": "1866e1ef",
   "metadata": {},
   "outputs": [],
   "source": [
    "pdb_path = \"./pdbs/T0967.pdb\"\n",
    "# this pdb has 79 residues\n",
    "design_mask = torch.ones(79).bool() # design entire backbone sequence and sidechains\n",
    "prediction = runner.infer(\n",
    "    pdb_path=pdb_path, \n",
    "    #Boolean Tensor indicating which residues to design\n",
    "    design_mask=design_mask, \n",
    "    #Whether to post-process output\n",
    "    post_process=True\n",
    ")"
   ]
  },
  {
   "cell_type": "markdown",
   "id": "320b3143",
   "metadata": {},
   "source": [
    "## Check out sequence Prediction"
   ]
  },
  {
   "cell_type": "code",
   "execution_count": null,
   "id": "5558a1aa",
   "metadata": {},
   "outputs": [],
   "source": [
    "import math\n",
    "pred_protein = make_predicted_protein(prediction[\"model_out\"], seq = prediction[\"seq\"])\n",
    "x,y = prediction[\"model_out\"].decoy_protein.seq, pred_protein.seq\n",
    "\n",
    "print(\"Input Sequence :\\n\",x,\"\\n\")\n",
    "print(\"Predicted Sequence :\\n\",y,\"\\n\")\n",
    "aln=\"\".join([\" \" if x[i]!=y[i] else \"|\" for i in range(len(x))])\n",
    "nsr = sum([int(a==b) for a,b in zip(x,y)])/len(x)\n",
    "print(f\"Aligned: (NSR={round(nsr*100,1)}%)\")\n",
    "for i in range(math.ceil(len(x)/80)):\n",
    "    s,e = i*80, (i+1)*80\n",
    "    print(f\" {x[s:e]}\\n {aln[s:e]}\\n {y[s:e]}\\n\")\n"
   ]
  }
 ],
 "metadata": {
  "kernelspec": {
   "display_name": "Python 3 (ipykernel)",
   "language": "python",
   "name": "python3"
  },
  "language_info": {
   "codemirror_mode": {
    "name": "ipython",
    "version": 3
   },
   "file_extension": ".py",
   "mimetype": "text/x-python",
   "name": "python",
   "nbconvert_exporter": "python",
   "pygments_lexer": "ipython3",
   "version": "3.8.11"
  },
  "vscode": {
   "interpreter": {
    "hash": "31f2aee4e71d21fbe5cf8b01ff0e069b9275f58929596ceb00d14d90e3e16cd6"
   }
  }
 },
 "nbformat": 4,
 "nbformat_minor": 5
}

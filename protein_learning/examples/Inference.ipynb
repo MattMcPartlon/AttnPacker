{
 "cells": [
  {
   "cell_type": "markdown",
   "id": "3cc597ac",
   "metadata": {},
   "source": [
    "## Add AttnPacker to your `PYTHONPATH`"
   ]
  },
  {
   "cell_type": "code",
   "execution_count": 1,
   "id": "fb545478",
   "metadata": {},
   "outputs": [],
   "source": [
    "import os\n",
    "import sys\n",
    "code_root = os.path.dirname(os.path.dirname(os.getcwd()))\n",
    "if code_root not in sys.path:\n",
    "    print(f\"Added {code_root} to python path\")\n",
    "    sys.path.append(code_root)\n",
    "# Faster Inference on CPU\n",
    "os.environ[\"CUDA_DEVICE_ORDER\"] = \"PCI_BUS_ID\"\n",
    "os.environ['OPENBLAS_NUM_THREADS'] = '4'\n",
    "os.environ['MKL_NUM_THREADS'] = '4'\n",
    "os.environ['OMP_NUM_THREADS'] = '4'\n"
   ]
  },
  {
   "cell_type": "code",
   "execution_count": 2,
   "id": "3a8c3345",
   "metadata": {},
   "outputs": [],
   "source": [
    "import torch\n",
    "from protein_learning.models.inference_utils import (\n",
    "    Inference,\n",
    "    make_predicted_protein,\n",
    "    default\n",
    ")\n",
    "import protein_learning.common.protein_constants as pc\n",
    "import time"
   ]
  },
  {
   "cell_type": "markdown",
   "id": "94e805e0",
   "metadata": {},
   "source": [
    "# Inference Procedure"
   ]
  },
  {
   "cell_type": "markdown",
   "id": "33cf4375",
   "metadata": {},
   "source": [
    "### Load the model\n",
    "\n",
    "The `Inference` class is a wrapper around the AttnPacker Model and is used for performing inference\n",
    "\n",
    "You should have already downloaded the pretrained model weights and configs ([linked here](https://zenodo.org/record/7559358#.Y83tYuzMI0Q)). To load AttnPacker or AttnPacker+Design, \n",
    "specify the directory you downloaded these files to in the parameter `RESOURCE_ROOT`."
   ]
  },
  {
   "cell_type": "code",
   "execution_count": 3,
   "id": "6da3e0c1",
   "metadata": {},
   "outputs": [
    {
     "name": "stdout",
     "output_type": "stream",
     "text": [
      "[INFO] Initializing AttnPacker Model\n"
     ]
    }
   ],
   "source": [
    "RESOURCE_ROOT = \"/Users/matthewmcpartlon/Downloads/fbb_design_ft_inference/AttnPackerPTM_V2/\"\n",
    "DEVICE = \"cuda:0\" if torch.cuda.is_available() else \"cpu\"\n",
    "# Wrapper class for inference\n",
    "runner = Inference(RESOURCE_ROOT, use_design_variant = False)\n",
    "runner = runner.to(DEVICE)"
   ]
  },
  {
   "cell_type": "markdown",
   "id": "00f22014",
   "metadata": {},
   "source": [
    "### Run Inference\n",
    "\n",
    "When `post_process=True` the output of `runner.infer` is a dictionary with keys:\n",
    "\n",
    "- pred_coords (Tensor[L,37,3])\n",
    "    - Predicted coordinates (order is given by pc.ALL_ATOM_POSNS)\n",
    "- pred_seq_logits (Tensor[L,21]) \n",
    "    - Residue-Type log likelihoods. Output only when using design variant (Order Given by pc.AA_TO_INDEX)\n",
    "- pred_plddt (Tensor[L])\n",
    "    - Predicted per-residue side-chain lDDT scores\n",
    "- res_output (Tensor[L,L,d_pair])\n",
    "    - Raw Residue Feature Output \n",
    "- pair_output (Tensor[L,d_res])\n",
    "    - Raw Pair Feature output\n",
    "- design_mask (Tensor[L]) \n",
    "    - Masked residue positions in input sequence (used only with design variant)\n",
    "- seq (str)\n",
    "    - String Representaion of Protein Sequence (possibly designed)\n",
    "- model_out (common.data.data_types.model_output.ModelOutput)\n",
    "    - Raw output of model.forward()\n",
    "- model_in (common.data.data_types.model_output.ModelInput)\n",
    "    - Raw Input to model.forward()\n",
    "    \n",
    "Note: The First Forward pass may be slow as the model has not yet been initialized"
   ]
  },
  {
   "cell_type": "code",
   "execution_count": 4,
   "id": "32f8f94a",
   "metadata": {},
   "outputs": [
    {
     "name": "stdout",
     "output_type": "stream",
     "text": [
      "[INFO] Initializing AttnPacker Model\n"
     ]
    },
    {
     "name": "stderr",
     "output_type": "stream",
     "text": [
      "/Users/matthewmcpartlon/miniconda3/envs/attnpacker/lib/python3.8/site-packages/torch/autocast_mode.py:162: UserWarning: User provided device_type of 'cuda', but CUDA is not available. Disabling\n",
      "  warnings.warn('User provided device_type of \\'cuda\\', but CUDA is not available. Disabling')\n",
      "/Users/matthewmcpartlon/miniconda3/envs/attnpacker/lib/python3.8/site-packages/torch/utils/checkpoint.py:25: UserWarning: None of the inputs have requires_grad=True. Gradients will be None\n",
      "  warnings.warn(\"None of the inputs have requires_grad=True. Gradients will be None\")\n"
     ]
    },
    {
     "name": "stdout",
     "output_type": "stream",
     "text": [
      "Ran Inference on cpu in time 1.48 seconds\n"
     ]
    }
   ],
   "source": [
    "pdb_path = \"./pdbs/T0967.pdb\"\n",
    "start = time.time()\n",
    "prediction = runner.infer(\n",
    "    pdb_path=pdb_path, \n",
    "    #Boolean Tensor indicating which residues to design\n",
    "    design_mask=None, \n",
    "    #Whether to post-process output\n",
    "    post_process=True,\n",
    "    #Chunk inference by successively packing smaller crops of size chunk_size\n",
    "    #This allows packing of arbitrarily long proteins\n",
    "    chunk_size = 500,\n",
    ")\n",
    "print(f\"Ran Inference on {runner.device} in time {round(time.time()-start,2)} seconds\")\n"
   ]
  },
  {
   "cell_type": "markdown",
   "id": "f0f144e5",
   "metadata": {},
   "source": [
    "### Save and Analyze Predictions\n",
    "\n",
    "Convert prediction into a `Protein` object (`common.data.data_types.protein.Protein`) before saving to PDB "
   ]
  },
  {
   "cell_type": "code",
   "execution_count": 5,
   "id": "5c985db1",
   "metadata": {},
   "outputs": [
    {
     "name": "stdout",
     "output_type": "stream",
     "text": [
      "saving pdb to ./attnpacker_inference/examples/T0967_packed.pdb\n"
     ]
    }
   ],
   "source": [
    "predicted_protein = make_predicted_protein(model_out = prediction['model_out'], seq = prediction['seq'])\n",
    "# Save predicted PDB to this location\n",
    "pdb_out_path = f\"./attnpacker_inference/examples/{predicted_protein.name}_packed.pdb\"\n",
    "print(f\"saving pdb to {pdb_out_path}\")\n",
    "predicted_protein.to_pdb(pdb_out_path)"
   ]
  },
  {
   "cell_type": "markdown",
   "id": "fcc63de0",
   "metadata": {},
   "source": [
    "## Run Post-Processing Procedure on Output\n",
    "\n",
    "As mentioned in the paper, the direct coordinate predictions may not have ideal geometry and\n",
    "could contain some clashes (though, often the number of clashes is small!)\n",
    "\n",
    "We can run the post-processing procedure described in the paper to fix this.\n"
   ]
  },
  {
   "cell_type": "code",
   "execution_count": 6,
   "id": "b3a6f694",
   "metadata": {},
   "outputs": [],
   "source": [
    "def project_coords_to_rotamers(\n",
    "    protein,\n",
    "    steric_clash_weight=1.,\n",
    "    optim_repeats=2,\n",
    "    max_optim_iters=100,\n",
    "    steric_loss_kwargs=None,\n",
    "):\n",
    "    projected_coords, _ = project_onto_rotamers(\n",
    "        atom_coords = protein.atom_coords.unsqueeze(0),\n",
    "        sequence = protein.seq_encoding.unsqueeze(0),\n",
    "        atom_mask = protein.atom_masks.unsqueeze(0),\n",
    "        steric_clash_weight=steric_clash_weight,\n",
    "        optim_repeats = optim_repeats,\n",
    "        steric_loss_kwargs = default(\n",
    "            steric_loss_kwargs, \n",
    "            dict(\n",
    "                hbond_allowance = 0.6,\n",
    "                global_allowance = 0.05,\n",
    "                global_tol_frac = 0.95,\n",
    "            )\n",
    "        ),\n",
    "        device = DEVICE,\n",
    "        # set this to smaller value to trade off accuracy and speed.\n",
    "        # use >= 500 for highest accuracy and ~50 for speed.\n",
    "        max_optim_iters = max_optim_iters,\n",
    "    )\n",
    "    return projected_coords.squeeze(0)"
   ]
  },
  {
   "cell_type": "code",
   "execution_count": 7,
   "id": "2f77e3a2",
   "metadata": {},
   "outputs": [
    {
     "name": "stderr",
     "output_type": "stream",
     "text": [
      "/Users/matthewmcpartlon/miniconda3/envs/attnpacker/lib/python3.8/site-packages/torch/autocast_mode.py:162: UserWarning: User provided device_type of 'cuda', but CUDA is not available. Disabling\n",
      "  warnings.warn('User provided device_type of \\'cuda\\', but CUDA is not available. Disabling')\n"
     ]
    },
    {
     "name": "stdout",
     "output_type": "stream",
     "text": [
      "[fn: project_onto_rotamers] : Using device cpu\n",
      "[INFO] Beginning rotamer projection\n",
      "[INFO] Initial loss values\n",
      "   [RMSD loss] = 0.237\n",
      "   [Steric loss] = 1.219\n",
      "   [Angle Dev. loss] = 0.0\n",
      "\n",
      "beginning iter: 0, steric weight: 1.0\n",
      "beginning iter: 1, steric weight: 1.0\n",
      "[INFO] Final Loss Values\n",
      "   [RMSD loss] = 0.17\n",
      "   [Steric loss] = 0.0\n",
      "   [Angle Dev. loss] = 0.015\n",
      "\n"
     ]
    }
   ],
   "source": [
    "from protein_learning.protein_utils.sidechains.project_sidechains import project_onto_rotamers\n",
    "# save optimized packing to the path below\n",
    "pp_pdb_out_path = f\"./attnpacker_inference/examples/{predicted_protein.name}_packed_pp.pdb\"\n",
    "\n",
    "#Please read the doc string for more details\n",
    "projected_coords = project_coords_to_rotamers(predicted_protein)\n",
    "# write new pdb using optimized coordinates\n",
    "predicted_protein.to_pdb(pp_pdb_out_path, coords=projected_coords)\n"
   ]
  },
  {
   "cell_type": "markdown",
   "id": "5158ae97",
   "metadata": {},
   "source": [
    "## Analyze predicted plDDT"
   ]
  },
  {
   "cell_type": "code",
   "execution_count": 8,
   "id": "447fc648",
   "metadata": {},
   "outputs": [
    {
     "data": {
      "text/plain": [
       "[<matplotlib.lines.Line2D at 0x16e0cda00>]"
      ]
     },
     "execution_count": 8,
     "metadata": {},
     "output_type": "execute_result"
    },
    {
     "data": {
      "image/png": "[encoded data removed]",
      "text/plain": [
       "<Figure size 640x480 with 1 Axes>"
      ]
     },
     "metadata": {},
     "output_type": "display_data"
    }
   ],
   "source": [
    "import matplotlib.pyplot as plt\n",
    "pred_plddt = prediction[\"pred_plddt\"]\n",
    "plt.plot(torch.arange(pred_plddt.numel()),pred_plddt.squeeze())"
   ]
  },
  {
   "cell_type": "markdown",
   "id": "fcaa28e9",
   "metadata": {},
   "source": [
    "## Visualize Optimized Coordinates"
   ]
  },
  {
   "cell_type": "code",
   "execution_count": 9,
   "id": "36ae9f5c",
   "metadata": {},
   "outputs": [],
   "source": [
    "view = None\n",
    "try:\n",
    "    import nglview as nv\n",
    "    view = nv.show_file(pp_pdb_out_path)\n",
    "    view.add_cartoon(\"protein\",color_scheme='residue_index')\n",
    "    view.add_ball_and_stick(\"protein\")\n",
    "except:\n",
    "    pass\n",
    "view"
   ]
  },
  {
   "cell_type": "markdown",
   "id": "be3e41fd",
   "metadata": {},
   "source": [
    "# Run Inference with Design Variant\n",
    "\n",
    "To design sequence and side-chains, just initialize the Inference class with `use_design_variant = True`, and use the `design_mask` parameter to indicate which parts of the backbone should be designed."
   ]
  },
  {
   "cell_type": "code",
   "execution_count": 10,
   "id": "11bd199c",
   "metadata": {},
   "outputs": [
    {
     "name": "stdout",
     "output_type": "stream",
     "text": [
      "[INFO] Initializing AttnPacker Model\n"
     ]
    }
   ],
   "source": [
    "RESOURCE_ROOT = \"/Users/matthewmcpartlon/Downloads/fbb_design_ft_inference/AttnPackerPTM_V2/\"\n",
    "DEVICE = \"cuda:0\" if torch.cuda.is_available() else \"cpu\"\n",
    "# Wrapper class for inference\n",
    "runner = Inference(RESOURCE_ROOT, use_design_variant = True)\n",
    "runner = runner.to(DEVICE)"
   ]
  },
  {
   "cell_type": "code",
   "execution_count": 11,
   "id": "1866e1ef",
   "metadata": {},
   "outputs": [
    {
     "name": "stdout",
     "output_type": "stream",
     "text": [
      "[INFO] Initializing AttnPacker Model\n"
     ]
    },
    {
     "name": "stderr",
     "output_type": "stream",
     "text": [
      "/Users/matthewmcpartlon/miniconda3/envs/attnpacker/lib/python3.8/site-packages/torch/autocast_mode.py:162: UserWarning: User provided device_type of 'cuda', but CUDA is not available. Disabling\n",
      "  warnings.warn('User provided device_type of \\'cuda\\', but CUDA is not available. Disabling')\n",
      "/Users/matthewmcpartlon/miniconda3/envs/attnpacker/lib/python3.8/site-packages/torch/utils/checkpoint.py:25: UserWarning: None of the inputs have requires_grad=True. Gradients will be None\n",
      "  warnings.warn(\"None of the inputs have requires_grad=True. Gradients will be None\")\n"
     ]
    }
   ],
   "source": [
    "pdb_path = \"./pdbs/T0967.pdb\"\n",
    "# this pdb has 79 residues\n",
    "design_mask = torch.ones(79).bool() # design entire backbone sequence and sidechains\n",
    "prediction = runner.infer(\n",
    "    pdb_path=pdb_path, \n",
    "    #Boolean Tensor indicating which residues to design\n",
    "    design_mask=design_mask, \n",
    "    #Whether to post-process output\n",
    "    post_process=True\n",
    ")"
   ]
  },
  {
   "cell_type": "markdown",
   "id": "320b3143",
   "metadata": {},
   "source": [
    "## Check out sequence Prediction"
   ]
  },
  {
   "cell_type": "code",
   "execution_count": 12,
   "id": "73086b28",
   "metadata": {},
   "outputs": [
    {
     "name": "stdout",
     "output_type": "stream",
     "text": [
      "Input Sequence :\n",
      " EDYIEAIANVLEKTPSISDVKDIIARELGQVLEFEIDLYVPPDITVTTGERIKKEVNQIIKEIVDRKSTVKVRLFAAQE \n",
      "\n",
      "Predicted Sequence :\n",
      " SSTVAEIEAVLEKLPAIVDIKEIEARKDGDVLHFEIEVEVPPDITEEQGEEIKAKVTEIVKEIVKEEVEVEVKLYDREL \n",
      "\n",
      "Aligned: (NSR=46.8%)\n",
      " EDYIEAIANVLEKTPSISDVKDIIARELGQVLEFEIDLYVPPDITVTTGERIKKEVNQIIKEIVDRKSTVKVRLFAAQE\n",
      "       |  |||| | | | | | ||  | || |||   ||||||   || ||  |  | ||||     | | |     \n",
      " SSTVAEIEAVLEKLPAIVDIKEIEARKDGDVLHFEIEVEVPPDITEEQGEEIKAKVTEIVKEIVKEEVEVEVKLYDREL\n",
      "\n"
     ]
    }
   ],
   "source": [
    "import math\n",
    "pred_protein = make_predicted_protein(prediction[\"model_out\"], seq = prediction[\"seq\"])\n",
    "x,y = prediction[\"model_out\"].decoy_protein.seq, pred_protein.seq\n",
    "\n",
    "print(\"Input Sequence :\\n\",x,\"\\n\")\n",
    "print(\"Predicted Sequence :\\n\",y,\"\\n\")\n",
    "aln=\"\".join([\" \" if x[i]!=y[i] else \"|\" for i in range(len(x))])\n",
    "nsr = sum([int(a==b) for a,b in zip(x,y)])/len(x)\n",
    "print(f\"Aligned: (NSR={round(nsr*100,1)}%)\")\n",
    "for i in range(math.ceil(len(x)/80)):\n",
    "    s,e = i*80, (i+1)*80\n",
    "    print(f\" {x[s:e]}\\n {aln[s:e]}\\n {y[s:e]}\\n\")\n"
   ]
  },
  {
   "cell_type": "markdown",
   "id": "0cdf3d00",
   "metadata": {},
   "source": [
    "Note: you can technically impute the sidechains for *any sequence* using the function below, not just the \n",
    " one predicted by AttnPacker. i.e."
   ]
  },
  {
   "cell_type": "code",
   "execution_count": 13,
   "id": "e1de1362",
   "metadata": {},
   "outputs": [
    {
     "name": "stdout",
     "output_type": "stream",
     "text": [
      "[fn: project_onto_rotamers] : Using device cpu\n",
      "[INFO] Beginning rotamer projection\n",
      "[INFO] Initial loss values\n",
      "   [RMSD loss] = 1.469\n",
      "   [Steric loss] = 328.639\n",
      "   [Angle Dev. loss] = 0.0\n",
      "\n",
      "beginning iter: 0, steric weight: 1.0\n",
      "beginning iter: 1, steric weight: 1.0\n",
      "beginning iter: 2, steric weight: 1.0\n",
      "[INFO] Final Loss Values\n",
      "   [RMSD loss] = 1.38\n",
      "   [Steric loss] = 0.186\n",
      "   [Angle Dev. loss] = 0.129\n",
      "\n"
     ]
    }
   ],
   "source": [
    "#Set every residue type to Arg.\n",
    "pred_protein = make_predicted_protein(prediction[\"model_out\"], seq = \"\".join([\"R\"]*len(design_mask)))\n",
    "\n",
    "# fix clashes\n",
    "all_arg_coords = project_coords_to_rotamers(\n",
    "    pred_protein,\n",
    "    steric_loss_kwargs= dict(\n",
    "        hbond_allowance = 0.5,\n",
    "        global_allowance = 0.1,\n",
    "        global_tol_frac = 0.9,\n",
    "        p=2,\n",
    "    ),\n",
    "    steric_clash_weight=1.,\n",
    "    optim_repeats=3,\n",
    "    max_optim_iters=200,\n",
    ")\n",
    "\n",
    "pp_pdb_out_path = f\"./attnpacker_inference/examples/{pred_protein.name}_all_arg_pp.pdb\"\n",
    "pred_protein.to_pdb(pp_pdb_out_path, coords = all_arg_coords)"
   ]
  },
  {
   "cell_type": "code",
   "execution_count": null,
   "id": "5f5739c7",
   "metadata": {},
   "outputs": [],
   "source": []
  }
 ],
 "metadata": {
  "kernelspec": {
   "display_name": "Python 3 (ipykernel)",
   "language": "python",
   "name": "python3"
  },
  "language_info": {
   "codemirror_mode": {
    "name": "ipython",
    "version": 3
   },
   "file_extension": ".py",
   "mimetype": "text/x-python",
   "name": "python",
   "nbconvert_exporter": "python",
   "pygments_lexer": "ipython3",
   "version": "3.8.11"
  },
  "vscode": {
   "interpreter": {
    "hash": "31f2aee4e71d21fbe5cf8b01ff0e069b9275f58929596ceb00d14d90e3e16cd6"
   }
  }
 },
 "nbformat": 4,
 "nbformat_minor": 5
}
